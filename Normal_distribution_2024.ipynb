{
 "cells": [
  {
   "cell_type": "code",
   "execution_count": 1,
   "id": "a5cf1e32",
   "metadata": {
    "ExecuteTime": {
     "end_time": "2024-05-21T12:14:07.627348Z",
     "start_time": "2024-05-21T12:14:06.562287Z"
    }
   },
   "outputs": [],
   "source": [
    "import pandas as pd \n",
    "import numpy as np\n"
   ]
  },
  {
   "cell_type": "code",
   "execution_count": 2,
   "id": "9dc53232",
   "metadata": {
    "ExecuteTime": {
     "end_time": "2024-05-21T12:14:07.666041Z",
     "start_time": "2024-05-21T12:14:07.632266Z"
    }
   },
   "outputs": [],
   "source": [
    "df=pd.read_csv(\"C:/Users/MANISHA/chapter6_assets/3_normal_distribution/heights.csv\")"
   ]
  },
  {
   "cell_type": "code",
   "execution_count": 3,
   "id": "59759fdc",
   "metadata": {
    "ExecuteTime": {
     "end_time": "2024-05-21T12:14:07.706477Z",
     "start_time": "2024-05-21T12:14:07.666832Z"
    }
   },
   "outputs": [
    {
     "data": {
      "text/html": [
       "<div>\n",
       "<style scoped>\n",
       "    .dataframe tbody tr th:only-of-type {\n",
       "        vertical-align: middle;\n",
       "    }\n",
       "\n",
       "    .dataframe tbody tr th {\n",
       "        vertical-align: top;\n",
       "    }\n",
       "\n",
       "    .dataframe thead th {\n",
       "        text-align: right;\n",
       "    }\n",
       "</style>\n",
       "<table border=\"1\" class=\"dataframe\">\n",
       "  <thead>\n",
       "    <tr style=\"text-align: right;\">\n",
       "      <th></th>\n",
       "      <th>name</th>\n",
       "      <th>height</th>\n",
       "    </tr>\n",
       "  </thead>\n",
       "  <tbody>\n",
       "    <tr>\n",
       "      <th>0</th>\n",
       "      <td>Aarav</td>\n",
       "      <td>5.45</td>\n",
       "    </tr>\n",
       "    <tr>\n",
       "      <th>1</th>\n",
       "      <td>Deepika</td>\n",
       "      <td>5.61</td>\n",
       "    </tr>\n",
       "    <tr>\n",
       "      <th>2</th>\n",
       "      <td>Abhishek</td>\n",
       "      <td>5.65</td>\n",
       "    </tr>\n",
       "    <tr>\n",
       "      <th>3</th>\n",
       "      <td>Sneha</td>\n",
       "      <td>5.52</td>\n",
       "    </tr>\n",
       "    <tr>\n",
       "      <th>4</th>\n",
       "      <td>Kriti</td>\n",
       "      <td>5.69</td>\n",
       "    </tr>\n",
       "  </tbody>\n",
       "</table>\n",
       "</div>"
      ],
      "text/plain": [
       "       name  height\n",
       "0     Aarav    5.45\n",
       "1   Deepika    5.61\n",
       "2  Abhishek    5.65\n",
       "3     Sneha    5.52\n",
       "4     Kriti    5.69"
      ]
     },
     "execution_count": 3,
     "metadata": {},
     "output_type": "execute_result"
    }
   ],
   "source": [
    "df.head()"
   ]
  },
  {
   "cell_type": "code",
   "execution_count": 4,
   "id": "841a03e9",
   "metadata": {
    "ExecuteTime": {
     "end_time": "2024-05-21T12:14:11.139621Z",
     "start_time": "2024-05-21T12:14:07.711500Z"
    }
   },
   "outputs": [],
   "source": [
    "from matplotlib import pyplot as plt\n",
    "import seaborn as sns "
   ]
  },
  {
   "cell_type": "code",
   "execution_count": 5,
   "id": "179df8ef",
   "metadata": {
    "ExecuteTime": {
     "end_time": "2024-05-21T12:14:11.170186Z",
     "start_time": "2024-05-21T12:14:11.142180Z"
    }
   },
   "outputs": [
    {
     "data": {
      "text/plain": [
       "(1000, 2)"
      ]
     },
     "execution_count": 5,
     "metadata": {},
     "output_type": "execute_result"
    }
   ],
   "source": [
    "df.shape"
   ]
  },
  {
   "cell_type": "code",
   "execution_count": 6,
   "id": "f7c42958",
   "metadata": {
    "ExecuteTime": {
     "end_time": "2024-05-21T12:14:11.855750Z",
     "start_time": "2024-05-21T12:14:11.175874Z"
    }
   },
   "outputs": [
    {
     "data": {
      "text/plain": [
       "<Axes: xlabel='height', ylabel='Count'>"
      ]
     },
     "execution_count": 6,
     "metadata": {},
     "output_type": "execute_result"
    },
    {
     "data": {
      "image/png": "[encoded data removed]",
      "text/plain": [
       "<Figure size 640x480 with 1 Axes>"
      ]
     },
     "metadata": {},
     "output_type": "display_data"
    }
   ],
   "source": [
    "sns.histplot(df.height,kde=True)"
   ]
  },
  {
   "cell_type": "code",
   "execution_count": 7,
   "id": "3bf4aabc",
   "metadata": {
    "ExecuteTime": {
     "end_time": "2024-05-21T12:14:11.871667Z",
     "start_time": "2024-05-21T12:14:11.861378Z"
    }
   },
   "outputs": [],
   "source": [
    "mean= round(df.height.mean(),2)"
   ]
  },
  {
   "cell_type": "code",
   "execution_count": 8,
   "id": "4131e7bc",
   "metadata": {
    "ExecuteTime": {
     "end_time": "2024-05-21T12:14:11.888669Z",
     "start_time": "2024-05-21T12:14:11.875681Z"
    }
   },
   "outputs": [
    {
     "data": {
      "text/plain": [
       "5.61"
      ]
     },
     "execution_count": 8,
     "metadata": {},
     "output_type": "execute_result"
    }
   ],
   "source": [
    "mean"
   ]
  },
  {
   "cell_type": "code",
   "execution_count": 9,
   "id": "90282ecd",
   "metadata": {
    "ExecuteTime": {
     "end_time": "2024-05-21T12:14:11.912495Z",
     "start_time": "2024-05-21T12:14:11.894440Z"
    }
   },
   "outputs": [
    {
     "data": {
      "text/plain": [
       "0.33"
      ]
     },
     "execution_count": 9,
     "metadata": {},
     "output_type": "execute_result"
    }
   ],
   "source": [
    "standard_dev= round(df.height.std(),2)\n",
    "standard_dev"
   ]
  },
  {
   "cell_type": "code",
   "execution_count": 11,
   "id": "f77411f4",
   "metadata": {
    "ExecuteTime": {
     "end_time": "2024-05-21T12:17:47.599029Z",
     "start_time": "2024-05-21T12:17:46.992202Z"
    }
   },
   "outputs": [
    {
     "data": {
      "image/png": "[encoded data removed]",
      "text/plain": [
       "<Figure size 640x480 with 1 Axes>"
      ]
     },
     "metadata": {},
     "output_type": "display_data"
    }
   ],
   "source": [
    "sns.histplot(df.height,kde=True)\n",
    "plt.axvline(mean,color='b',linestyle='dashed',linewidth=1.5,label='mean')\n",
    "\n",
    "## One standard deviation\n",
    "plt.axvline(mean - 1*standard_dev, color='r', linestyle='--', label='-1 SD')\n",
    "plt.axvline(mean + 1*standard_dev, color='r', linestyle='--', label='+1 SD')\n",
    "\n",
    "## two standard deviation\n",
    "plt.axvline(mean - 2*standard_dev, color='g', linestyle='--', label='-2 SD')\n",
    "plt.axvline(mean + 2*standard_dev, color='g', linestyle='--', label='+2 SD')\n",
    "\n",
    "### three standard deviation\n",
    "\n",
    "plt.axvline(mean - 3*standard_dev, color='y', linestyle='--', label='-3 SD')\n",
    "plt.axvline(mean + 3*standard_dev, color='y', linestyle='--', label='+3 SD')\n",
    "\n",
    "\n",
    "plt.legend()\n",
    "plt.show()"
   ]
  },
  {
   "cell_type": "markdown",
   "id": "2887c5a8",
   "metadata": {},
   "source": [
    "\n",
    "## Calculating exact value for 1std,2std and 3std"
   ]
  },
  {
   "cell_type": "code",
   "execution_count": 13,
   "id": "bf0f0600",
   "metadata": {
    "ExecuteTime": {
     "end_time": "2024-05-21T12:21:38.492417Z",
     "start_time": "2024-05-21T12:21:38.473307Z"
    }
   },
   "outputs": [
    {
     "data": {
      "text/plain": [
       "(5.28, 5.94)"
      ]
     },
     "execution_count": 13,
     "metadata": {},
     "output_type": "execute_result"
    }
   ],
   "source": [
    "left1=round(mean-standard_dev,2)\n",
    "right1=round(mean+standard_dev,2)\n",
    "left1,right1"
   ]
  },
  {
   "cell_type": "code",
   "execution_count": 14,
   "id": "0e24e9f5",
   "metadata": {
    "ExecuteTime": {
     "end_time": "2024-05-21T12:22:41.707970Z",
     "start_time": "2024-05-21T12:22:41.683900Z"
    }
   },
   "outputs": [
    {
     "data": {
      "text/plain": [
       "(4.95, 6.27)"
      ]
     },
     "execution_count": 14,
     "metadata": {},
     "output_type": "execute_result"
    }
   ],
   "source": [
    "left2=round(mean- 2*standard_dev,2)\n",
    "right2=round(mean+ 2*standard_dev,2)\n",
    "left2,right2"
   ]
  },
  {
   "cell_type": "code",
   "execution_count": 15,
   "id": "8ed80033",
   "metadata": {
    "ExecuteTime": {
     "end_time": "2024-05-21T12:23:34.201915Z",
     "start_time": "2024-05-21T12:23:34.188880Z"
    }
   },
   "outputs": [
    {
     "data": {
      "text/plain": [
       "(4.62, 6.6)"
      ]
     },
     "execution_count": 15,
     "metadata": {},
     "output_type": "execute_result"
    }
   ],
   "source": [
    "left3=round(mean- 3*standard_dev,2)\n",
    "right3=round(mean+ 3*standard_dev,2)\n",
    "left3,right3"
   ]
  },
  {
   "cell_type": "markdown",
   "id": "54e264df",
   "metadata": {},
   "source": [
    "## Calculating percentage for 1std,2std,3std\n",
    "Emperical rule 68.3%-95.5%-99.7%"
   ]
  },
  {
   "cell_type": "code",
   "execution_count": 16,
   "id": "2d99b88d",
   "metadata": {
    "ExecuteTime": {
     "end_time": "2024-05-21T12:27:27.891189Z",
     "start_time": "2024-05-21T12:27:27.871527Z"
    }
   },
   "outputs": [
    {
     "data": {
      "text/plain": [
       "(641, 2)"
      ]
     },
     "execution_count": 16,
     "metadata": {},
     "output_type": "execute_result"
    }
   ],
   "source": [
    "df[(df.height>left1) & (df.height<right1)].shape"
   ]
  },
  {
   "cell_type": "code",
   "execution_count": 17,
   "id": "5ed6f5b1",
   "metadata": {
    "ExecuteTime": {
     "end_time": "2024-05-21T12:28:12.606783Z",
     "start_time": "2024-05-21T12:28:12.560494Z"
    }
   },
   "outputs": [
    {
     "data": {
      "text/plain": [
       "(970, 2)"
      ]
     },
     "execution_count": 17,
     "metadata": {},
     "output_type": "execute_result"
    }
   ],
   "source": [
    "df[(df.height>left2) & (df.height<right2)].shape"
   ]
  },
  {
   "cell_type": "code",
   "execution_count": 18,
   "id": "2887c231",
   "metadata": {
    "ExecuteTime": {
     "end_time": "2024-05-21T12:29:12.850912Z",
     "start_time": "2024-05-21T12:29:12.820413Z"
    }
   },
   "outputs": [
    {
     "data": {
      "text/plain": [
       "(999, 2)"
      ]
     },
     "execution_count": 18,
     "metadata": {},
     "output_type": "execute_result"
    }
   ],
   "source": [
    "df[(df.height>left3) & (df.height<right3)].shape"
   ]
  },
  {
   "cell_type": "code",
   "execution_count": null,
   "id": "6b2f1fbb",
   "metadata": {},
   "outputs": [],
   "source": []
  }
 ],
 "metadata": {
  "kernelspec": {
   "display_name": "Python 3 (ipykernel)",
   "language": "python",
   "name": "python3"
  },
  "language_info": {
   "codemirror_mode": {
    "name": "ipython",
    "version": 3
   },
   "file_extension": ".py",
   "mimetype": "text/x-python",
   "name": "python",
   "nbconvert_exporter": "python",
   "pygments_lexer": "ipython3",
   "version": "3.8.10"
  },
  "toc": {
   "base_numbering": 1,
   "nav_menu": {},
   "number_sections": true,
   "sideBar": true,
   "skip_h1_title": false,
   "title_cell": "Table of Contents",
   "title_sidebar": "Contents",
   "toc_cell": false,
   "toc_position": {},
   "toc_section_display": true,
   "toc_window_display": false
  },
  "varInspector": {
   "cols": {
    "lenName": 16,
    "lenType": 16,
    "lenVar": 40
   },
   "kernels_config": {
    "python": {
     "delete_cmd_postfix": "",
     "delete_cmd_prefix": "del ",
     "library": "var_list.py",
     "varRefreshCmd": "print(var_dic_list())"
    },
    "r": {
     "delete_cmd_postfix": ") ",
     "delete_cmd_prefix": "rm(",
     "library": "var_list.r",
     "varRefreshCmd": "cat(var_dic_list()) "
    }
   },
   "types_to_exclude": [
    "module",
    "function",
    "builtin_function_or_method",
    "instance",
    "_Feature"
   ],
   "window_display": false
  }
 },
 "nbformat": 4,
 "nbformat_minor": 5
}
